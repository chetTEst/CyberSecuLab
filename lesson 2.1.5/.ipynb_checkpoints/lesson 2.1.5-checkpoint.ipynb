{
 "cells": [
  {
   "cell_type": "markdown",
   "id": "4f716da2-21f7-40da-ae59-4f0aba0d946f",
   "metadata": {},
   "source": [
    "## Пример 1: Антивирусное программное обеспечение"
   ]
  },
  {
   "cell_type": "markdown",
   "id": "f6b8a7bd-79b6-43f6-aa5e-80340a9da995",
   "metadata": {},
   "source": [
    "Пример адаптивной антивирусной системы на **Python** предполагает моделирование процесса использования _машинного обучения_ для обнаружения потенциально ___вредоносных файлов___ на основе моделей поведения, а не только на основе известных *вирусных сигнатур*. Этот пример будет представлять собой базовую демонстрацию с использованием _синтетических данных_."
   ]
  },
  {
   "cell_type": "markdown",
   "id": "9bbc5202-7924-48c9-9030-cc19cadd3be8",
   "metadata": {},
   "source": [
    "### Шаг 1: Импорт библиотек и создание необходимых инструментов"
   ]
  },
  {
   "cell_type": "code",
   "execution_count": 1,
   "id": "f895a654-ce75-4dc6-b935-d86c0c24a0b8",
   "metadata": {},
   "outputs": [],
   "source": [
    "import numpy as np # Библиотека для работы с данными\n",
    "from sklearn.ensemble import RandomForestClassifier # Библиотека классификации данных \n",
    "import os # библиотека для работы с операционной системой\n",
    "from binary_list import BinaryList # библиотека для работы со списком бинарных сигнатур файлов"
   ]
  },
  {
   "cell_type": "markdown",
   "id": "95a6f4a4-2161-4c66-b419-5ffa021758b0",
   "metadata": {},
   "source": [
    "#### Добавление функций и путей к файлам"
   ]
  },
  {
   "cell_type": "code",
   "execution_count": 2,
   "id": "29c87de0-720f-40d9-9c72-d2d1cfa3b5e8",
   "metadata": {},
   "outputs": [],
   "source": [
    "def read_file_content(file_path): # Функция read_file_content считает содержимое файла по указанному пути file_path\n",
    "    with open(file_path, 'rb') as file:\n",
    "        return file.read() # вернет резуьтат, содержимое файла\n",
    "\n",
    "# Paths to directories\n",
    "normal_files_dir = os.path.join(\"AdaptiveAntivirus\", \"normal_files\") # путь к обычным файлам сохраним в переменную normal_files_dir\n",
    "virus_files_dir = os.path.join(\"AdaptiveAntivirus\", \"viruses\") # путь к файлам в которых точно известно что есть вирус сохраним\n",
    "# в переменную virus_files_dir\n"
   ]
  },
  {
   "cell_type": "code",
   "execution_count": 3,
   "id": "66a3e74c-cdd9-4769-b740-bb82cb5ba339",
   "metadata": {},
   "outputs": [
    {
     "data": {
      "text/plain": [
       "'AdaptiveAntivirus\\\\normal_files'"
      ]
     },
     "execution_count": 3,
     "metadata": {},
     "output_type": "execute_result"
    }
   ],
   "source": [
    "normal_files_dir # покажет путь к директории с обычгыми файлами"
   ]
  },
  {
   "cell_type": "code",
   "execution_count": 4,
   "id": "85483129-12b1-4ce3-9932-0c22eac11ac5",
   "metadata": {},
   "outputs": [
    {
     "data": {
      "text/plain": [
       "'AdaptiveAntivirus\\\\viruses'"
      ]
     },
     "execution_count": 4,
     "metadata": {},
     "output_type": "execute_result"
    }
   ],
   "source": [
    "virus_files_dir # покажет путь к директории с точно вирусными файлами"
   ]
  },
  {
   "cell_type": "code",
   "execution_count": 5,
   "id": "c00ab8ba-db6a-4ee7-a995-c20c8810b7e9",
   "metadata": {},
   "outputs": [
    {
     "data": {
      "text/plain": [
       "['brubz.bin',\n",
       " 'bufeb.txt',\n",
       " 'etwch.bin',\n",
       " 'ghfag.txt',\n",
       " 'hmftk.bin',\n",
       " 'icgia.bak',\n",
       " 'jagyz.bak',\n",
       " 'kxrui.bak',\n",
       " 'lczja.log',\n",
       " 'lmcfw.txt',\n",
       " 'maxqg.bak',\n",
       " 'mlful.dat',\n",
       " 'onigu.log',\n",
       " 'pcjgk.bin',\n",
       " 'qsrfj.dat',\n",
       " 'qzkss.bak',\n",
       " 'rydds.txt',\n",
       " 'soojl.dat',\n",
       " 'wuwif.txt',\n",
       " 'zgsgr.bak']"
      ]
     },
     "execution_count": 5,
     "metadata": {},
     "output_type": "execute_result"
    }
   ],
   "source": [
    "os.listdir(normal_files_dir) # покажет списко всех файлов в директории с обычгыми файлами"
   ]
  },
  {
   "cell_type": "code",
   "execution_count": 6,
   "id": "2f316338-134a-494d-8751-dd66f9ec1ea6",
   "metadata": {},
   "outputs": [],
   "source": [
    "normal_files = [os.path.join(normal_files_dir, f) for f in os.listdir(normal_files_dir)] # сохраняем список относительных путей\n",
    "# файлов os.listdir(normal_files_dir) в переменную normal_files\n",
    "normal_data = BinaryList([read_file_content(f) for f in normal_files]) # сохраняем в переменную normal_data содержимое каждого файла\n",
    "# директории normal_files_dir"
   ]
  },
  {
   "cell_type": "code",
   "execution_count": 8,
   "id": "9b47359e-e1de-44b6-99d1-b010ffee60b8",
   "metadata": {},
   "outputs": [
    {
     "data": {
      "text/plain": [
       "[bits: 0010110111100101,\n",
       "bits: 1001100110010100,\n",
       "bits: 0000000001111100,\n",
       "bits: 0010111100111101,\n",
       "bits: 1001001000101111]"
      ]
     },
     "execution_count": 8,
     "metadata": {},
     "output_type": "execute_result"
    }
   ],
   "source": [
    "normal_data[:5] # бинарные сигнатуры первых 5 файлов директории normal_files_dir"
   ]
  },
  {
   "cell_type": "code",
   "execution_count": 9,
   "id": "3b670530-cf4c-41a9-9473-816eab16390e",
   "metadata": {},
   "outputs": [],
   "source": [
    "virus_files = [os.path.join(virus_files_dir, f) for f in os.listdir(virus_files_dir)]\n",
    "virus_data = BinaryList([read_file_content(f) for f in virus_files]) # сохраняем в переменную virus_data сигнатуры вирусных файлов"
   ]
  },
  {
   "cell_type": "code",
   "execution_count": 10,
   "id": "6749f90c-1f51-4e31-8469-4fad6dbd8201",
   "metadata": {},
   "outputs": [
    {
     "data": {
      "text/plain": [
       "[bits: 0000000011111111,\n",
       "bits: 1111111111111111]"
      ]
     },
     "execution_count": 10,
     "metadata": {},
     "output_type": "execute_result"
    }
   ],
   "source": [
    "virus_data # посмотрим на получившееся сигнатуры"
   ]
  },
  {
   "cell_type": "markdown",
   "id": "a98ebb38-3ce5-404b-852f-fd3bedea72f9",
   "metadata": {},
   "source": [
    "**Обратите внимание** на то как отличаются сигнатуры вирусных файлов и обычных файлов"
   ]
  },
  {
   "cell_type": "code",
   "execution_count": null,
   "id": "491eb320-798e-4335-8a6c-a7b4e10074a6",
   "metadata": {},
   "outputs": [],
   "source": []
  }
 ],
 "metadata": {
  "kernelspec": {
   "display_name": "myenv",
   "language": "python",
   "name": "myenv"
  },
  "language_info": {
   "codemirror_mode": {
    "name": "ipython",
    "version": 3
   },
   "file_extension": ".py",
   "mimetype": "text/x-python",
   "name": "python",
   "nbconvert_exporter": "python",
   "pygments_lexer": "ipython3",
   "version": "3.11.7"
  }
 },
 "nbformat": 4,
 "nbformat_minor": 5
}
